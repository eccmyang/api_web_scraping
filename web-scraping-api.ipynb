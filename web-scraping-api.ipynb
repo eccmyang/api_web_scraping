{
 "cells": [
  {
   "cell_type": "markdown",
   "id": "217904a7-eb7a-45ca-8ea3-35290b2c8d92",
   "metadata": {},
   "source": [
    "# Web Scraping through API: Capturing Covid-19 data"
   ]
  },
  {
   "cell_type": "markdown",
   "id": "07ccb526-74a8-4d2b-9e15-3bf0afff9f4c",
   "metadata": {},
   "source": [
    "## Registering use of API"
   ]
  },
  {
   "cell_type": "code",
   "execution_count": 1,
   "id": "11e751e1-0741-4a00-8f41-3c05544aeb49",
   "metadata": {},
   "outputs": [
    {
     "data": {
      "text/plain": [
       "['guardian-api-key.txt']"
      ]
     },
     "execution_count": 1,
     "metadata": {},
     "output_type": "execute_result"
    }
   ],
   "source": [
    "import os\n",
    "\n",
    "os.listdir(\"./auth\")"
   ]
  },
  {
   "cell_type": "code",
   "execution_count": 2,
   "id": "4bd5a823-5cd2-43cf-9243-d21dbe2d68c4",
   "metadata": {},
   "outputs": [
    {
     "data": {
      "text/plain": [
       "'a8f926a6-a91e-4f45-812b-a5045f04b836'"
      ]
     },
     "execution_count": 2,
     "metadata": {},
     "output_type": "execute_result"
    }
   ],
   "source": [
    "api_key = open(\"./auth/guardian-api-key.txt\", \"r\").read()\n",
    "\n",
    "api_key"
   ]
  },
  {
   "cell_type": "markdown",
   "id": "543c10c5-5158-4d7d-a913-55cd36cf94eb",
   "metadata": {},
   "source": [
    "## Requesting data"
   ]
  },
  {
   "cell_type": "code",
   "execution_count": 3,
   "id": "889ebd1a-4509-425e-9da1-5f4f9b56cc92",
   "metadata": {},
   "outputs": [],
   "source": [
    "import os\n",
    "import requests\n",
    "import json\n",
    "from datetime import datetime"
   ]
  },
  {
   "cell_type": "code",
   "execution_count": 4,
   "id": "08a9e3ad-9cb4-4319-abab-4370d3e31326",
   "metadata": {},
   "outputs": [
    {
     "name": "stdout",
     "output_type": "stream",
     "text": [
      "http://content.guardianapis.com/search?q=covid-19\n"
     ]
    },
    {
     "data": {
      "text/plain": [
       "200"
      ]
     },
     "execution_count": 4,
     "metadata": {},
     "output_type": "execute_result"
    }
   ],
   "source": [
    "baseurl = \"http://content.guardianapis.com/search?\"\n",
    "searchterm = \"covid-19\"\n",
    "auth = {\"api-key\":api_key}\n",
    "webadd = baseurl + \"q=\" + searchterm\n",
    "\n",
    "print(webadd)\n",
    "\n",
    "response = requests.get(webadd, headers=auth)\n",
    "response.status_code"
   ]
  },
  {
   "cell_type": "code",
   "execution_count": 5,
   "id": "e49d5e46-495b-4701-ae61-c508d3567d00",
   "metadata": {
    "tags": []
   },
   "outputs": [
    {
     "data": {
      "text/plain": [
       "{'response': {'status': 'ok',\n",
       "  'userTier': 'developer',\n",
       "  'total': 51858,\n",
       "  'startIndex': 1,\n",
       "  'pageSize': 10,\n",
       "  'currentPage': 1,\n",
       "  'pages': 5186,\n",
       "  'orderBy': 'relevance',\n",
       "  'results': [{'id': 'world/2021/nov/01/global-covid-19-death-toll-passes-5m',\n",
       "    'type': 'article',\n",
       "    'sectionId': 'world',\n",
       "    'sectionName': 'World news',\n",
       "    'webPublicationDate': '2021-11-01T14:10:03Z',\n",
       "    'webTitle': 'Global Covid-19 death toll passes 5m',\n",
       "    'webUrl': 'https://www.theguardian.com/world/2021/nov/01/global-covid-19-death-toll-passes-5m',\n",
       "    'apiUrl': 'https://content.guardianapis.com/world/2021/nov/01/global-covid-19-death-toll-passes-5m',\n",
       "    'isHosted': False,\n",
       "    'pillarId': 'pillar/news',\n",
       "    'pillarName': 'News'},\n",
       "   {'id': 'sport/2021/nov/03/aaron-rodgers-covid-19-vaccine-status-reports-green-bay-packers-nfl',\n",
       "    'type': 'article',\n",
       "    'sectionId': 'sport',\n",
       "    'sectionName': 'Sport',\n",
       "    'webPublicationDate': '2021-11-03T16:31:09Z',\n",
       "    'webTitle': 'Aaron Rodgers reportedly unvaccinated after testing positive for Covid-19',\n",
       "    'webUrl': 'https://www.theguardian.com/sport/2021/nov/03/aaron-rodgers-covid-19-vaccine-status-reports-green-bay-packers-nfl',\n",
       "    'apiUrl': 'https://content.guardianapis.com/sport/2021/nov/03/aaron-rodgers-covid-19-vaccine-status-reports-green-bay-packers-nfl',\n",
       "    'isHosted': False,\n",
       "    'pillarId': 'pillar/sport',\n",
       "    'pillarName': 'Sport'},\n",
       "   {'id': 'australia-news/2021/dec/15/scott-morrison-to-travel-to-queensland-despite-being-a-casual-covid-contact',\n",
       "    'type': 'article',\n",
       "    'sectionId': 'australia-news',\n",
       "    'sectionName': 'Australia news',\n",
       "    'webPublicationDate': '2021-12-15T01:31:11Z',\n",
       "    'webTitle': 'Scott Morrison travels to Queensland despite being a casual Covid-19 contact',\n",
       "    'webUrl': 'https://www.theguardian.com/australia-news/2021/dec/15/scott-morrison-to-travel-to-queensland-despite-being-a-casual-covid-contact',\n",
       "    'apiUrl': 'https://content.guardianapis.com/australia-news/2021/dec/15/scott-morrison-to-travel-to-queensland-despite-being-a-casual-covid-contact',\n",
       "    'isHosted': False,\n",
       "    'pillarId': 'pillar/news',\n",
       "    'pillarName': 'News'},\n",
       "   {'id': 'world/2021/oct/19/tell-us-have-you-contracted-covid-19-multiple-times',\n",
       "    'type': 'article',\n",
       "    'sectionId': 'world',\n",
       "    'sectionName': 'World news',\n",
       "    'webPublicationDate': '2021-10-19T11:59:00Z',\n",
       "    'webTitle': 'Tell us: have you contracted Covid-19 multiple times? ',\n",
       "    'webUrl': 'https://www.theguardian.com/world/2021/oct/19/tell-us-have-you-contracted-covid-19-multiple-times',\n",
       "    'apiUrl': 'https://content.guardianapis.com/world/2021/oct/19/tell-us-have-you-contracted-covid-19-multiple-times',\n",
       "    'isHosted': False,\n",
       "    'pillarId': 'pillar/news',\n",
       "    'pillarName': 'News'},\n",
       "   {'id': 'world/2021/oct/24/ed-sheeran-self-isolating-testing-positive-covid-19',\n",
       "    'type': 'article',\n",
       "    'sectionId': 'music',\n",
       "    'sectionName': 'Music',\n",
       "    'webPublicationDate': '2021-10-24T18:24:40Z',\n",
       "    'webTitle': 'Ed Sheeran self-isolates after testing positive for Covid-19',\n",
       "    'webUrl': 'https://www.theguardian.com/world/2021/oct/24/ed-sheeran-self-isolating-testing-positive-covid-19',\n",
       "    'apiUrl': 'https://content.guardianapis.com/world/2021/oct/24/ed-sheeran-self-isolating-testing-positive-covid-19',\n",
       "    'isHosted': False,\n",
       "    'pillarId': 'pillar/arts',\n",
       "    'pillarName': 'Arts'},\n",
       "   {'id': 'world/2021/oct/19/without-covid-19-jab-reinfection-may-occur-every-16-months-say-scientists',\n",
       "    'type': 'article',\n",
       "    'sectionId': 'world',\n",
       "    'sectionName': 'World news',\n",
       "    'webPublicationDate': '2021-10-19T18:21:41Z',\n",
       "    'webTitle': 'Without Covid-19 jab, ‘reinfection may occur every 16 months’ ',\n",
       "    'webUrl': 'https://www.theguardian.com/world/2021/oct/19/without-covid-19-jab-reinfection-may-occur-every-16-months-say-scientists',\n",
       "    'apiUrl': 'https://content.guardianapis.com/world/2021/oct/19/without-covid-19-jab-reinfection-may-occur-every-16-months-say-scientists',\n",
       "    'isHosted': False,\n",
       "    'pillarId': 'pillar/news',\n",
       "    'pillarName': 'News'},\n",
       "   {'id': 'us-news/2021/sep/21/first-thing-us-covid-19-death-rate-now-same-as-the-1918-19-flu-pandemic',\n",
       "    'type': 'article',\n",
       "    'sectionId': 'us-news',\n",
       "    'sectionName': 'US news',\n",
       "    'webPublicationDate': '2021-09-21T10:14:08Z',\n",
       "    'webTitle': 'Covid-19 death rate now same as the 1918-19 flu pandemic | First Thing',\n",
       "    'webUrl': 'https://www.theguardian.com/us-news/2021/sep/21/first-thing-us-covid-19-death-rate-now-same-as-the-1918-19-flu-pandemic',\n",
       "    'apiUrl': 'https://content.guardianapis.com/us-news/2021/sep/21/first-thing-us-covid-19-death-rate-now-same-as-the-1918-19-flu-pandemic',\n",
       "    'isHosted': False,\n",
       "    'pillarId': 'pillar/news',\n",
       "    'pillarName': 'News'},\n",
       "   {'id': 'sport/2021/dec/17/spoty-gala-ceremony-hit-by-covid-19-but-expect-another-poignant-event',\n",
       "    'type': 'article',\n",
       "    'sectionId': 'sport',\n",
       "    'sectionName': 'Sport',\n",
       "    'webPublicationDate': '2021-12-17T16:25:11Z',\n",
       "    'webTitle': 'Spoty gala ceremony hit by Covid-19 but expect another poignant event',\n",
       "    'webUrl': 'https://www.theguardian.com/sport/2021/dec/17/spoty-gala-ceremony-hit-by-covid-19-but-expect-another-poignant-event',\n",
       "    'apiUrl': 'https://content.guardianapis.com/sport/2021/dec/17/spoty-gala-ceremony-hit-by-covid-19-but-expect-another-poignant-event',\n",
       "    'isHosted': False,\n",
       "    'pillarId': 'pillar/sport',\n",
       "    'pillarName': 'Sport'},\n",
       "   {'id': 'sport/2021/oct/22/chess-fide-world-event-controversially-goes-ahead-despite-covid-19-lockdown',\n",
       "    'type': 'article',\n",
       "    'sectionId': 'sport',\n",
       "    'sectionName': 'Sport',\n",
       "    'webPublicationDate': '2021-10-22T11:39:23Z',\n",
       "    'webTitle': 'Chess: Fide world event controversially goes ahead despite Covid-19 lockdown',\n",
       "    'webUrl': 'https://www.theguardian.com/sport/2021/oct/22/chess-fide-world-event-controversially-goes-ahead-despite-covid-19-lockdown',\n",
       "    'apiUrl': 'https://content.guardianapis.com/sport/2021/oct/22/chess-fide-world-event-controversially-goes-ahead-despite-covid-19-lockdown',\n",
       "    'isHosted': False,\n",
       "    'pillarId': 'pillar/sport',\n",
       "    'pillarName': 'Sport'},\n",
       "   {'id': 'money/2021/sep/03/uk-enjoys-property-sales-boom-amid-covid-19-pandemic',\n",
       "    'type': 'article',\n",
       "    'sectionId': 'business',\n",
       "    'sectionName': 'Business',\n",
       "    'webPublicationDate': '2021-09-03T05:00:19Z',\n",
       "    'webTitle': 'UK enjoys property sales boom amid Covid-19 pandemic',\n",
       "    'webUrl': 'https://www.theguardian.com/money/2021/sep/03/uk-enjoys-property-sales-boom-amid-covid-19-pandemic',\n",
       "    'apiUrl': 'https://content.guardianapis.com/money/2021/sep/03/uk-enjoys-property-sales-boom-amid-covid-19-pandemic',\n",
       "    'isHosted': False,\n",
       "    'pillarId': 'pillar/news',\n",
       "    'pillarName': 'News'}]}}"
      ]
     },
     "execution_count": 5,
     "metadata": {},
     "output_type": "execute_result"
    }
   ],
   "source": [
    "data = response.json()\n",
    "\n",
    "data"
   ]
  },
  {
   "cell_type": "markdown",
   "id": "c569dfb1-2a88-4355-9651-68b13d630417",
   "metadata": {
    "tags": []
   },
   "source": [
    "## Navigating a dictionary (JSON) variable"
   ]
  },
  {
   "cell_type": "code",
   "execution_count": 6,
   "id": "79c8a02a-3ddc-4521-a4a9-dedb8376cb66",
   "metadata": {},
   "outputs": [
    {
     "data": {
      "text/plain": [
       "dict_keys(['response'])"
      ]
     },
     "execution_count": 6,
     "metadata": {},
     "output_type": "execute_result"
    }
   ],
   "source": [
    "data.keys()"
   ]
  },
  {
   "cell_type": "code",
   "execution_count": 7,
   "id": "203a68ff-e213-4930-a564-c7e0859bece4",
   "metadata": {},
   "outputs": [
    {
     "data": {
      "text/plain": [
       "dict_keys(['status', 'userTier', 'total', 'startIndex', 'pageSize', 'currentPage', 'pages', 'orderBy', 'results'])"
      ]
     },
     "execution_count": 7,
     "metadata": {},
     "output_type": "execute_result"
    }
   ],
   "source": [
    "data[\"response\"].keys()"
   ]
  },
  {
   "cell_type": "code",
   "execution_count": 8,
   "id": "f31e8e1c-5193-4fa6-bfe1-d743d214c411",
   "metadata": {
    "tags": []
   },
   "outputs": [
    {
     "data": {
      "text/plain": [
       "[{'id': 'world/2021/nov/01/global-covid-19-death-toll-passes-5m',\n",
       "  'type': 'article',\n",
       "  'sectionId': 'world',\n",
       "  'sectionName': 'World news',\n",
       "  'webPublicationDate': '2021-11-01T14:10:03Z',\n",
       "  'webTitle': 'Global Covid-19 death toll passes 5m',\n",
       "  'webUrl': 'https://www.theguardian.com/world/2021/nov/01/global-covid-19-death-toll-passes-5m',\n",
       "  'apiUrl': 'https://content.guardianapis.com/world/2021/nov/01/global-covid-19-death-toll-passes-5m',\n",
       "  'isHosted': False,\n",
       "  'pillarId': 'pillar/news',\n",
       "  'pillarName': 'News'},\n",
       " {'id': 'sport/2021/nov/03/aaron-rodgers-covid-19-vaccine-status-reports-green-bay-packers-nfl',\n",
       "  'type': 'article',\n",
       "  'sectionId': 'sport',\n",
       "  'sectionName': 'Sport',\n",
       "  'webPublicationDate': '2021-11-03T16:31:09Z',\n",
       "  'webTitle': 'Aaron Rodgers reportedly unvaccinated after testing positive for Covid-19',\n",
       "  'webUrl': 'https://www.theguardian.com/sport/2021/nov/03/aaron-rodgers-covid-19-vaccine-status-reports-green-bay-packers-nfl',\n",
       "  'apiUrl': 'https://content.guardianapis.com/sport/2021/nov/03/aaron-rodgers-covid-19-vaccine-status-reports-green-bay-packers-nfl',\n",
       "  'isHosted': False,\n",
       "  'pillarId': 'pillar/sport',\n",
       "  'pillarName': 'Sport'},\n",
       " {'id': 'australia-news/2021/dec/15/scott-morrison-to-travel-to-queensland-despite-being-a-casual-covid-contact',\n",
       "  'type': 'article',\n",
       "  'sectionId': 'australia-news',\n",
       "  'sectionName': 'Australia news',\n",
       "  'webPublicationDate': '2021-12-15T01:31:11Z',\n",
       "  'webTitle': 'Scott Morrison travels to Queensland despite being a casual Covid-19 contact',\n",
       "  'webUrl': 'https://www.theguardian.com/australia-news/2021/dec/15/scott-morrison-to-travel-to-queensland-despite-being-a-casual-covid-contact',\n",
       "  'apiUrl': 'https://content.guardianapis.com/australia-news/2021/dec/15/scott-morrison-to-travel-to-queensland-despite-being-a-casual-covid-contact',\n",
       "  'isHosted': False,\n",
       "  'pillarId': 'pillar/news',\n",
       "  'pillarName': 'News'},\n",
       " {'id': 'world/2021/oct/19/tell-us-have-you-contracted-covid-19-multiple-times',\n",
       "  'type': 'article',\n",
       "  'sectionId': 'world',\n",
       "  'sectionName': 'World news',\n",
       "  'webPublicationDate': '2021-10-19T11:59:00Z',\n",
       "  'webTitle': 'Tell us: have you contracted Covid-19 multiple times? ',\n",
       "  'webUrl': 'https://www.theguardian.com/world/2021/oct/19/tell-us-have-you-contracted-covid-19-multiple-times',\n",
       "  'apiUrl': 'https://content.guardianapis.com/world/2021/oct/19/tell-us-have-you-contracted-covid-19-multiple-times',\n",
       "  'isHosted': False,\n",
       "  'pillarId': 'pillar/news',\n",
       "  'pillarName': 'News'},\n",
       " {'id': 'world/2021/oct/24/ed-sheeran-self-isolating-testing-positive-covid-19',\n",
       "  'type': 'article',\n",
       "  'sectionId': 'music',\n",
       "  'sectionName': 'Music',\n",
       "  'webPublicationDate': '2021-10-24T18:24:40Z',\n",
       "  'webTitle': 'Ed Sheeran self-isolates after testing positive for Covid-19',\n",
       "  'webUrl': 'https://www.theguardian.com/world/2021/oct/24/ed-sheeran-self-isolating-testing-positive-covid-19',\n",
       "  'apiUrl': 'https://content.guardianapis.com/world/2021/oct/24/ed-sheeran-self-isolating-testing-positive-covid-19',\n",
       "  'isHosted': False,\n",
       "  'pillarId': 'pillar/arts',\n",
       "  'pillarName': 'Arts'},\n",
       " {'id': 'world/2021/oct/19/without-covid-19-jab-reinfection-may-occur-every-16-months-say-scientists',\n",
       "  'type': 'article',\n",
       "  'sectionId': 'world',\n",
       "  'sectionName': 'World news',\n",
       "  'webPublicationDate': '2021-10-19T18:21:41Z',\n",
       "  'webTitle': 'Without Covid-19 jab, ‘reinfection may occur every 16 months’ ',\n",
       "  'webUrl': 'https://www.theguardian.com/world/2021/oct/19/without-covid-19-jab-reinfection-may-occur-every-16-months-say-scientists',\n",
       "  'apiUrl': 'https://content.guardianapis.com/world/2021/oct/19/without-covid-19-jab-reinfection-may-occur-every-16-months-say-scientists',\n",
       "  'isHosted': False,\n",
       "  'pillarId': 'pillar/news',\n",
       "  'pillarName': 'News'},\n",
       " {'id': 'us-news/2021/sep/21/first-thing-us-covid-19-death-rate-now-same-as-the-1918-19-flu-pandemic',\n",
       "  'type': 'article',\n",
       "  'sectionId': 'us-news',\n",
       "  'sectionName': 'US news',\n",
       "  'webPublicationDate': '2021-09-21T10:14:08Z',\n",
       "  'webTitle': 'Covid-19 death rate now same as the 1918-19 flu pandemic | First Thing',\n",
       "  'webUrl': 'https://www.theguardian.com/us-news/2021/sep/21/first-thing-us-covid-19-death-rate-now-same-as-the-1918-19-flu-pandemic',\n",
       "  'apiUrl': 'https://content.guardianapis.com/us-news/2021/sep/21/first-thing-us-covid-19-death-rate-now-same-as-the-1918-19-flu-pandemic',\n",
       "  'isHosted': False,\n",
       "  'pillarId': 'pillar/news',\n",
       "  'pillarName': 'News'},\n",
       " {'id': 'sport/2021/dec/17/spoty-gala-ceremony-hit-by-covid-19-but-expect-another-poignant-event',\n",
       "  'type': 'article',\n",
       "  'sectionId': 'sport',\n",
       "  'sectionName': 'Sport',\n",
       "  'webPublicationDate': '2021-12-17T16:25:11Z',\n",
       "  'webTitle': 'Spoty gala ceremony hit by Covid-19 but expect another poignant event',\n",
       "  'webUrl': 'https://www.theguardian.com/sport/2021/dec/17/spoty-gala-ceremony-hit-by-covid-19-but-expect-another-poignant-event',\n",
       "  'apiUrl': 'https://content.guardianapis.com/sport/2021/dec/17/spoty-gala-ceremony-hit-by-covid-19-but-expect-another-poignant-event',\n",
       "  'isHosted': False,\n",
       "  'pillarId': 'pillar/sport',\n",
       "  'pillarName': 'Sport'},\n",
       " {'id': 'sport/2021/oct/22/chess-fide-world-event-controversially-goes-ahead-despite-covid-19-lockdown',\n",
       "  'type': 'article',\n",
       "  'sectionId': 'sport',\n",
       "  'sectionName': 'Sport',\n",
       "  'webPublicationDate': '2021-10-22T11:39:23Z',\n",
       "  'webTitle': 'Chess: Fide world event controversially goes ahead despite Covid-19 lockdown',\n",
       "  'webUrl': 'https://www.theguardian.com/sport/2021/oct/22/chess-fide-world-event-controversially-goes-ahead-despite-covid-19-lockdown',\n",
       "  'apiUrl': 'https://content.guardianapis.com/sport/2021/oct/22/chess-fide-world-event-controversially-goes-ahead-despite-covid-19-lockdown',\n",
       "  'isHosted': False,\n",
       "  'pillarId': 'pillar/sport',\n",
       "  'pillarName': 'Sport'},\n",
       " {'id': 'money/2021/sep/03/uk-enjoys-property-sales-boom-amid-covid-19-pandemic',\n",
       "  'type': 'article',\n",
       "  'sectionId': 'business',\n",
       "  'sectionName': 'Business',\n",
       "  'webPublicationDate': '2021-09-03T05:00:19Z',\n",
       "  'webTitle': 'UK enjoys property sales boom amid Covid-19 pandemic',\n",
       "  'webUrl': 'https://www.theguardian.com/money/2021/sep/03/uk-enjoys-property-sales-boom-amid-covid-19-pandemic',\n",
       "  'apiUrl': 'https://content.guardianapis.com/money/2021/sep/03/uk-enjoys-property-sales-boom-amid-covid-19-pandemic',\n",
       "  'isHosted': False,\n",
       "  'pillarId': 'pillar/news',\n",
       "  'pillarName': 'News'}]"
      ]
     },
     "execution_count": 8,
     "metadata": {},
     "output_type": "execute_result"
    }
   ],
   "source": [
    "search_results = data[\"response\"][\"results\"]\n",
    "\n",
    "search_results"
   ]
  },
  {
   "cell_type": "code",
   "execution_count": 9,
   "id": "981cf200-3e99-4dbf-951c-fe3bdf2daaae",
   "metadata": {},
   "outputs": [
    {
     "data": {
      "text/plain": [
       "list"
      ]
     },
     "execution_count": 9,
     "metadata": {},
     "output_type": "execute_result"
    }
   ],
   "source": [
    "type(search_results)"
   ]
  },
  {
   "cell_type": "code",
   "execution_count": 10,
   "id": "efd44f94-e7af-432e-a419-d1c59929e59e",
   "metadata": {},
   "outputs": [
    {
     "data": {
      "text/plain": [
       "10"
      ]
     },
     "execution_count": 10,
     "metadata": {},
     "output_type": "execute_result"
    }
   ],
   "source": [
    "len(search_results)"
   ]
  },
  {
   "cell_type": "code",
   "execution_count": 11,
   "id": "ce87407d-3e5c-4d51-ab1e-c7664f2f34eb",
   "metadata": {},
   "outputs": [
    {
     "name": "stdout",
     "output_type": "stream",
     "text": [
      "article\n",
      "World news\n",
      "2021-11-01T14:10:03Z\n",
      "\n",
      "-------------\n",
      "\n",
      "article\n",
      "Sport\n",
      "2021-11-03T16:31:09Z\n",
      "\n",
      "-------------\n",
      "\n",
      "article\n",
      "Australia news\n",
      "2021-12-15T01:31:11Z\n",
      "\n",
      "-------------\n",
      "\n",
      "article\n",
      "World news\n",
      "2021-10-19T11:59:00Z\n",
      "\n",
      "-------------\n",
      "\n",
      "article\n",
      "Music\n",
      "2021-10-24T18:24:40Z\n",
      "\n",
      "-------------\n",
      "\n",
      "article\n",
      "World news\n",
      "2021-10-19T18:21:41Z\n",
      "\n",
      "-------------\n",
      "\n",
      "article\n",
      "US news\n",
      "2021-09-21T10:14:08Z\n",
      "\n",
      "-------------\n",
      "\n",
      "article\n",
      "Sport\n",
      "2021-12-17T16:25:11Z\n",
      "\n",
      "-------------\n",
      "\n",
      "article\n",
      "Sport\n",
      "2021-10-22T11:39:23Z\n",
      "\n",
      "-------------\n",
      "\n",
      "article\n",
      "Business\n",
      "2021-09-03T05:00:19Z\n",
      "\n",
      "-------------\n",
      "\n"
     ]
    }
   ],
   "source": [
    "# view the values of certain keys in each element in  the list\n",
    "for result in search_results:\n",
    "    print(result[\"type\"])\n",
    "    print(result[\"sectionName\"])\n",
    "    print(result[\"webPublicationDate\"])\n",
    "    print(\"\\r\")\n",
    "    print(\"-------------\")\n",
    "    print(\"\\r\")"
   ]
  },
  {
   "cell_type": "markdown",
   "id": "73c3c8b5-5264-499f-9bca-23c9193dd7b2",
   "metadata": {},
   "source": [
    "## Saving results"
   ]
  },
  {
   "cell_type": "code",
   "execution_count": 12,
   "id": "8796e302-4d0b-40ad-90a6-6e4f39c418a3",
   "metadata": {},
   "outputs": [
    {
     "name": "stdout",
     "output_type": "stream",
     "text": [
      "Unable to create folder: already exists\n"
     ]
    }
   ],
   "source": [
    "try:\n",
    "    os.mkdir(\"./downloads\")\n",
    "except:\n",
    "    print(\"Unable to create folder: already exists\")"
   ]
  },
  {
   "cell_type": "code",
   "execution_count": 13,
   "id": "639577c7-a4cb-4b00-9c20-86fd84495034",
   "metadata": {},
   "outputs": [
    {
     "name": "stdout",
     "output_type": "stream",
     "text": [
      "{'response': {'status': 'ok', 'userTier': 'developer', 'total': 51858, 'startIndex': 1, 'pageSize': 10, 'currentPage': 1, 'pages': 5186, 'orderBy': 'relevance', 'results': [{'id': 'world/2021/nov/01/global-covid-19-death-toll-passes-5m', 'type': 'article', 'sectionId': 'world', 'sectionName': 'World news', 'webPublicationDate': '2021-11-01T14:10:03Z', 'webTitle': 'Global Covid-19 death toll passes 5m', 'webUrl': 'https://www.theguardian.com/world/2021/nov/01/global-covid-19-death-toll-passes-5m', 'apiUrl': 'https://content.guardianapis.com/world/2021/nov/01/global-covid-19-death-toll-passes-5m', 'isHosted': False, 'pillarId': 'pillar/news', 'pillarName': 'News'}, {'id': 'sport/2021/nov/03/aaron-rodgers-covid-19-vaccine-status-reports-green-bay-packers-nfl', 'type': 'article', 'sectionId': 'sport', 'sectionName': 'Sport', 'webPublicationDate': '2021-11-03T16:31:09Z', 'webTitle': 'Aaron Rodgers reportedly unvaccinated after testing positive for Covid-19', 'webUrl': 'https://www.theguardian.com/sport/2021/nov/03/aaron-rodgers-covid-19-vaccine-status-reports-green-bay-packers-nfl', 'apiUrl': 'https://content.guardianapis.com/sport/2021/nov/03/aaron-rodgers-covid-19-vaccine-status-reports-green-bay-packers-nfl', 'isHosted': False, 'pillarId': 'pillar/sport', 'pillarName': 'Sport'}, {'id': 'australia-news/2021/dec/15/scott-morrison-to-travel-to-queensland-despite-being-a-casual-covid-contact', 'type': 'article', 'sectionId': 'australia-news', 'sectionName': 'Australia news', 'webPublicationDate': '2021-12-15T01:31:11Z', 'webTitle': 'Scott Morrison travels to Queensland despite being a casual Covid-19 contact', 'webUrl': 'https://www.theguardian.com/australia-news/2021/dec/15/scott-morrison-to-travel-to-queensland-despite-being-a-casual-covid-contact', 'apiUrl': 'https://content.guardianapis.com/australia-news/2021/dec/15/scott-morrison-to-travel-to-queensland-despite-being-a-casual-covid-contact', 'isHosted': False, 'pillarId': 'pillar/news', 'pillarName': 'News'}, {'id': 'world/2021/oct/19/tell-us-have-you-contracted-covid-19-multiple-times', 'type': 'article', 'sectionId': 'world', 'sectionName': 'World news', 'webPublicationDate': '2021-10-19T11:59:00Z', 'webTitle': 'Tell us: have you contracted Covid-19 multiple times? ', 'webUrl': 'https://www.theguardian.com/world/2021/oct/19/tell-us-have-you-contracted-covid-19-multiple-times', 'apiUrl': 'https://content.guardianapis.com/world/2021/oct/19/tell-us-have-you-contracted-covid-19-multiple-times', 'isHosted': False, 'pillarId': 'pillar/news', 'pillarName': 'News'}, {'id': 'world/2021/oct/24/ed-sheeran-self-isolating-testing-positive-covid-19', 'type': 'article', 'sectionId': 'music', 'sectionName': 'Music', 'webPublicationDate': '2021-10-24T18:24:40Z', 'webTitle': 'Ed Sheeran self-isolates after testing positive for Covid-19', 'webUrl': 'https://www.theguardian.com/world/2021/oct/24/ed-sheeran-self-isolating-testing-positive-covid-19', 'apiUrl': 'https://content.guardianapis.com/world/2021/oct/24/ed-sheeran-self-isolating-testing-positive-covid-19', 'isHosted': False, 'pillarId': 'pillar/arts', 'pillarName': 'Arts'}, {'id': 'world/2021/oct/19/without-covid-19-jab-reinfection-may-occur-every-16-months-say-scientists', 'type': 'article', 'sectionId': 'world', 'sectionName': 'World news', 'webPublicationDate': '2021-10-19T18:21:41Z', 'webTitle': 'Without Covid-19 jab, ‘reinfection may occur every 16 months’ ', 'webUrl': 'https://www.theguardian.com/world/2021/oct/19/without-covid-19-jab-reinfection-may-occur-every-16-months-say-scientists', 'apiUrl': 'https://content.guardianapis.com/world/2021/oct/19/without-covid-19-jab-reinfection-may-occur-every-16-months-say-scientists', 'isHosted': False, 'pillarId': 'pillar/news', 'pillarName': 'News'}, {'id': 'us-news/2021/sep/21/first-thing-us-covid-19-death-rate-now-same-as-the-1918-19-flu-pandemic', 'type': 'article', 'sectionId': 'us-news', 'sectionName': 'US news', 'webPublicationDate': '2021-09-21T10:14:08Z', 'webTitle': 'Covid-19 death rate now same as the 1918-19 flu pandemic | First Thing', 'webUrl': 'https://www.theguardian.com/us-news/2021/sep/21/first-thing-us-covid-19-death-rate-now-same-as-the-1918-19-flu-pandemic', 'apiUrl': 'https://content.guardianapis.com/us-news/2021/sep/21/first-thing-us-covid-19-death-rate-now-same-as-the-1918-19-flu-pandemic', 'isHosted': False, 'pillarId': 'pillar/news', 'pillarName': 'News'}, {'id': 'sport/2021/dec/17/spoty-gala-ceremony-hit-by-covid-19-but-expect-another-poignant-event', 'type': 'article', 'sectionId': 'sport', 'sectionName': 'Sport', 'webPublicationDate': '2021-12-17T16:25:11Z', 'webTitle': 'Spoty gala ceremony hit by Covid-19 but expect another poignant event', 'webUrl': 'https://www.theguardian.com/sport/2021/dec/17/spoty-gala-ceremony-hit-by-covid-19-but-expect-another-poignant-event', 'apiUrl': 'https://content.guardianapis.com/sport/2021/dec/17/spoty-gala-ceremony-hit-by-covid-19-but-expect-another-poignant-event', 'isHosted': False, 'pillarId': 'pillar/sport', 'pillarName': 'Sport'}, {'id': 'sport/2021/oct/22/chess-fide-world-event-controversially-goes-ahead-despite-covid-19-lockdown', 'type': 'article', 'sectionId': 'sport', 'sectionName': 'Sport', 'webPublicationDate': '2021-10-22T11:39:23Z', 'webTitle': 'Chess: Fide world event controversially goes ahead despite Covid-19 lockdown', 'webUrl': 'https://www.theguardian.com/sport/2021/oct/22/chess-fide-world-event-controversially-goes-ahead-despite-covid-19-lockdown', 'apiUrl': 'https://content.guardianapis.com/sport/2021/oct/22/chess-fide-world-event-controversially-goes-ahead-despite-covid-19-lockdown', 'isHosted': False, 'pillarId': 'pillar/sport', 'pillarName': 'Sport'}, {'id': 'money/2021/sep/03/uk-enjoys-property-sales-boom-amid-covid-19-pandemic', 'type': 'article', 'sectionId': 'business', 'sectionName': 'Business', 'webPublicationDate': '2021-09-03T05:00:19Z', 'webTitle': 'UK enjoys property sales boom amid Covid-19 pandemic', 'webUrl': 'https://www.theguardian.com/money/2021/sep/03/uk-enjoys-property-sales-boom-amid-covid-19-pandemic', 'apiUrl': 'https://content.guardianapis.com/money/2021/sep/03/uk-enjoys-property-sales-boom-amid-covid-19-pandemic', 'isHosted': False, 'pillarId': 'pillar/news', 'pillarName': 'News'}]}}\n"
     ]
    }
   ],
   "source": [
    "# Write the results to a JSON file\n",
    "date = datetime.now().strftime(\"%Y-%m-%d\")\n",
    "print(data)\n",
    "\n",
    "outfile = \"./downloads/guardian-api-covid-19-search-\" + date + \".json\"\n",
    "\n",
    "with open(outfile, \"w\") as f:\n",
    "    json.dump(data, f)"
   ]
  },
  {
   "cell_type": "code",
   "execution_count": 14,
   "id": "e453c387-1cfd-43e3-94f3-8d97a7233211",
   "metadata": {},
   "outputs": [
    {
     "data": {
      "text/plain": [
       "['guardian-api-covid-19-search-2021-12-18.json']"
      ]
     },
     "execution_count": 14,
     "metadata": {},
     "output_type": "execute_result"
    }
   ],
   "source": [
    "os.listdir(\"./downloads\")"
   ]
  },
  {
   "cell_type": "code",
   "execution_count": 15,
   "id": "dc85ca24-61c6-4ac6-9b4a-68b3502fe1f1",
   "metadata": {},
   "outputs": [
    {
     "data": {
      "text/plain": [
       "{'response': {'status': 'ok',\n",
       "  'userTier': 'developer',\n",
       "  'total': 51858,\n",
       "  'startIndex': 1,\n",
       "  'pageSize': 10,\n",
       "  'currentPage': 1,\n",
       "  'pages': 5186,\n",
       "  'orderBy': 'relevance',\n",
       "  'results': [{'id': 'world/2021/nov/01/global-covid-19-death-toll-passes-5m',\n",
       "    'type': 'article',\n",
       "    'sectionId': 'world',\n",
       "    'sectionName': 'World news',\n",
       "    'webPublicationDate': '2021-11-01T14:10:03Z',\n",
       "    'webTitle': 'Global Covid-19 death toll passes 5m',\n",
       "    'webUrl': 'https://www.theguardian.com/world/2021/nov/01/global-covid-19-death-toll-passes-5m',\n",
       "    'apiUrl': 'https://content.guardianapis.com/world/2021/nov/01/global-covid-19-death-toll-passes-5m',\n",
       "    'isHosted': False,\n",
       "    'pillarId': 'pillar/news',\n",
       "    'pillarName': 'News'},\n",
       "   {'id': 'sport/2021/nov/03/aaron-rodgers-covid-19-vaccine-status-reports-green-bay-packers-nfl',\n",
       "    'type': 'article',\n",
       "    'sectionId': 'sport',\n",
       "    'sectionName': 'Sport',\n",
       "    'webPublicationDate': '2021-11-03T16:31:09Z',\n",
       "    'webTitle': 'Aaron Rodgers reportedly unvaccinated after testing positive for Covid-19',\n",
       "    'webUrl': 'https://www.theguardian.com/sport/2021/nov/03/aaron-rodgers-covid-19-vaccine-status-reports-green-bay-packers-nfl',\n",
       "    'apiUrl': 'https://content.guardianapis.com/sport/2021/nov/03/aaron-rodgers-covid-19-vaccine-status-reports-green-bay-packers-nfl',\n",
       "    'isHosted': False,\n",
       "    'pillarId': 'pillar/sport',\n",
       "    'pillarName': 'Sport'},\n",
       "   {'id': 'australia-news/2021/dec/15/scott-morrison-to-travel-to-queensland-despite-being-a-casual-covid-contact',\n",
       "    'type': 'article',\n",
       "    'sectionId': 'australia-news',\n",
       "    'sectionName': 'Australia news',\n",
       "    'webPublicationDate': '2021-12-15T01:31:11Z',\n",
       "    'webTitle': 'Scott Morrison travels to Queensland despite being a casual Covid-19 contact',\n",
       "    'webUrl': 'https://www.theguardian.com/australia-news/2021/dec/15/scott-morrison-to-travel-to-queensland-despite-being-a-casual-covid-contact',\n",
       "    'apiUrl': 'https://content.guardianapis.com/australia-news/2021/dec/15/scott-morrison-to-travel-to-queensland-despite-being-a-casual-covid-contact',\n",
       "    'isHosted': False,\n",
       "    'pillarId': 'pillar/news',\n",
       "    'pillarName': 'News'},\n",
       "   {'id': 'world/2021/oct/19/tell-us-have-you-contracted-covid-19-multiple-times',\n",
       "    'type': 'article',\n",
       "    'sectionId': 'world',\n",
       "    'sectionName': 'World news',\n",
       "    'webPublicationDate': '2021-10-19T11:59:00Z',\n",
       "    'webTitle': 'Tell us: have you contracted Covid-19 multiple times? ',\n",
       "    'webUrl': 'https://www.theguardian.com/world/2021/oct/19/tell-us-have-you-contracted-covid-19-multiple-times',\n",
       "    'apiUrl': 'https://content.guardianapis.com/world/2021/oct/19/tell-us-have-you-contracted-covid-19-multiple-times',\n",
       "    'isHosted': False,\n",
       "    'pillarId': 'pillar/news',\n",
       "    'pillarName': 'News'},\n",
       "   {'id': 'world/2021/oct/24/ed-sheeran-self-isolating-testing-positive-covid-19',\n",
       "    'type': 'article',\n",
       "    'sectionId': 'music',\n",
       "    'sectionName': 'Music',\n",
       "    'webPublicationDate': '2021-10-24T18:24:40Z',\n",
       "    'webTitle': 'Ed Sheeran self-isolates after testing positive for Covid-19',\n",
       "    'webUrl': 'https://www.theguardian.com/world/2021/oct/24/ed-sheeran-self-isolating-testing-positive-covid-19',\n",
       "    'apiUrl': 'https://content.guardianapis.com/world/2021/oct/24/ed-sheeran-self-isolating-testing-positive-covid-19',\n",
       "    'isHosted': False,\n",
       "    'pillarId': 'pillar/arts',\n",
       "    'pillarName': 'Arts'},\n",
       "   {'id': 'world/2021/oct/19/without-covid-19-jab-reinfection-may-occur-every-16-months-say-scientists',\n",
       "    'type': 'article',\n",
       "    'sectionId': 'world',\n",
       "    'sectionName': 'World news',\n",
       "    'webPublicationDate': '2021-10-19T18:21:41Z',\n",
       "    'webTitle': 'Without Covid-19 jab, ‘reinfection may occur every 16 months’ ',\n",
       "    'webUrl': 'https://www.theguardian.com/world/2021/oct/19/without-covid-19-jab-reinfection-may-occur-every-16-months-say-scientists',\n",
       "    'apiUrl': 'https://content.guardianapis.com/world/2021/oct/19/without-covid-19-jab-reinfection-may-occur-every-16-months-say-scientists',\n",
       "    'isHosted': False,\n",
       "    'pillarId': 'pillar/news',\n",
       "    'pillarName': 'News'},\n",
       "   {'id': 'us-news/2021/sep/21/first-thing-us-covid-19-death-rate-now-same-as-the-1918-19-flu-pandemic',\n",
       "    'type': 'article',\n",
       "    'sectionId': 'us-news',\n",
       "    'sectionName': 'US news',\n",
       "    'webPublicationDate': '2021-09-21T10:14:08Z',\n",
       "    'webTitle': 'Covid-19 death rate now same as the 1918-19 flu pandemic | First Thing',\n",
       "    'webUrl': 'https://www.theguardian.com/us-news/2021/sep/21/first-thing-us-covid-19-death-rate-now-same-as-the-1918-19-flu-pandemic',\n",
       "    'apiUrl': 'https://content.guardianapis.com/us-news/2021/sep/21/first-thing-us-covid-19-death-rate-now-same-as-the-1918-19-flu-pandemic',\n",
       "    'isHosted': False,\n",
       "    'pillarId': 'pillar/news',\n",
       "    'pillarName': 'News'},\n",
       "   {'id': 'sport/2021/dec/17/spoty-gala-ceremony-hit-by-covid-19-but-expect-another-poignant-event',\n",
       "    'type': 'article',\n",
       "    'sectionId': 'sport',\n",
       "    'sectionName': 'Sport',\n",
       "    'webPublicationDate': '2021-12-17T16:25:11Z',\n",
       "    'webTitle': 'Spoty gala ceremony hit by Covid-19 but expect another poignant event',\n",
       "    'webUrl': 'https://www.theguardian.com/sport/2021/dec/17/spoty-gala-ceremony-hit-by-covid-19-but-expect-another-poignant-event',\n",
       "    'apiUrl': 'https://content.guardianapis.com/sport/2021/dec/17/spoty-gala-ceremony-hit-by-covid-19-but-expect-another-poignant-event',\n",
       "    'isHosted': False,\n",
       "    'pillarId': 'pillar/sport',\n",
       "    'pillarName': 'Sport'},\n",
       "   {'id': 'sport/2021/oct/22/chess-fide-world-event-controversially-goes-ahead-despite-covid-19-lockdown',\n",
       "    'type': 'article',\n",
       "    'sectionId': 'sport',\n",
       "    'sectionName': 'Sport',\n",
       "    'webPublicationDate': '2021-10-22T11:39:23Z',\n",
       "    'webTitle': 'Chess: Fide world event controversially goes ahead despite Covid-19 lockdown',\n",
       "    'webUrl': 'https://www.theguardian.com/sport/2021/oct/22/chess-fide-world-event-controversially-goes-ahead-despite-covid-19-lockdown',\n",
       "    'apiUrl': 'https://content.guardianapis.com/sport/2021/oct/22/chess-fide-world-event-controversially-goes-ahead-despite-covid-19-lockdown',\n",
       "    'isHosted': False,\n",
       "    'pillarId': 'pillar/sport',\n",
       "    'pillarName': 'Sport'},\n",
       "   {'id': 'money/2021/sep/03/uk-enjoys-property-sales-boom-amid-covid-19-pandemic',\n",
       "    'type': 'article',\n",
       "    'sectionId': 'business',\n",
       "    'sectionName': 'Business',\n",
       "    'webPublicationDate': '2021-09-03T05:00:19Z',\n",
       "    'webTitle': 'UK enjoys property sales boom amid Covid-19 pandemic',\n",
       "    'webUrl': 'https://www.theguardian.com/money/2021/sep/03/uk-enjoys-property-sales-boom-amid-covid-19-pandemic',\n",
       "    'apiUrl': 'https://content.guardianapis.com/money/2021/sep/03/uk-enjoys-property-sales-boom-amid-covid-19-pandemic',\n",
       "    'isHosted': False,\n",
       "    'pillarId': 'pillar/news',\n",
       "    'pillarName': 'News'}]}}"
      ]
     },
     "execution_count": 15,
     "metadata": {},
     "output_type": "execute_result"
    }
   ],
   "source": [
    "with open(outfile, \"r\") as f:\n",
    "    data = json.load(f)\n",
    "    \n",
    "data"
   ]
  },
  {
   "cell_type": "markdown",
   "id": "4741642f-b3b0-41dd-aba2-df7c105f20c2",
   "metadata": {},
   "source": [
    "## Refining Covid-19 data collection"
   ]
  },
  {
   "cell_type": "code",
   "execution_count": 16,
   "id": "9eae2373-4cf9-4734-ab50-9de1596bac9b",
   "metadata": {},
   "outputs": [],
   "source": [
    "import os\n",
    "import requests\n",
    "import json\n",
    "import pandas as pd\n",
    "from datetime import datetime\n",
    "from bs4 import BeautifulSoup as soup\n",
    "\n",
    "date = datetime.now().strftime(\"%Y-%m-%d\")\n",
    "\n",
    "api_key = open(\"./auth/guardian-api-key.txt\", \"r\").read()"
   ]
  },
  {
   "cell_type": "code",
   "execution_count": 18,
   "id": "3050ce11-37bb-4bcc-b18a-f377a6da7907",
   "metadata": {},
   "outputs": [
    {
     "name": "stdout",
     "output_type": "stream",
     "text": [
      "http://content.guardianapis.com/search?q=covid-19 OR coronavirus\n"
     ]
    },
    {
     "data": {
      "text/plain": [
       "200"
      ]
     },
     "execution_count": 18,
     "metadata": {},
     "output_type": "execute_result"
    }
   ],
   "source": [
    "baseurl = \"http://content.guardianapis.com/search?\"\n",
    "searchterms = \"covid-19 OR coronavirus\"\n",
    "auth = {\"api-key\":api_key}\n",
    "\n",
    "webadd = baseurl + \"q=\" + searchterms\n",
    "print(webadd)\n",
    "\n",
    "response = requests.get(webadd, headers\n",
    "                        =auth)\n",
    "response.status_code"
   ]
  },
  {
   "cell_type": "code",
   "execution_count": 19,
   "id": "f1512301-5351-4604-990c-3262eeb93a03",
   "metadata": {},
   "outputs": [
    {
     "data": {
      "text/plain": [
       "48973"
      ]
     },
     "execution_count": 19,
     "metadata": {},
     "output_type": "execute_result"
    }
   ],
   "source": [
    "data = response.json()\n",
    "data[\"response\"][\"total\"]"
   ]
  },
  {
   "cell_type": "markdown",
   "id": "1cd5dce2-75d0-4f4c-91db-2b03d082ecf3",
   "metadata": {},
   "source": [
    "## Dealing with multiple pages of results"
   ]
  },
  {
   "cell_type": "code",
   "execution_count": 24,
   "id": "b0c8905e-7f7f-4620-8e37-37e439c5d84e",
   "metadata": {},
   "outputs": [
    {
     "name": "stdout",
     "output_type": "stream",
     "text": [
      "http://content.guardianapis.com/search?q=covid-19 OR coronavirus&page-size=50\n"
     ]
    },
    {
     "data": {
      "text/plain": [
       "200"
      ]
     },
     "execution_count": 24,
     "metadata": {},
     "output_type": "execute_result"
    }
   ],
   "source": [
    "baseurl = \"http://content.guardianapis.com/search?\"\n",
    "searchterms = \"covid-19 OR coronavirus\"\n",
    "auth = {\"api-key\":api_key}\n",
    "numresults = \"50\"\n",
    "\n",
    "webadd = baseurl + \"q=\" + searchterms + \"&page-size=\" + numresults\n",
    "print(webadd)\n",
    "\n",
    "response = requests.get(webadd, headers=auth)\n",
    "response.status_code"
   ]
  },
  {
   "cell_type": "code",
   "execution_count": 25,
   "id": "a29c22f0-e464-4f94-acc5-eb4c576683dc",
   "metadata": {},
   "outputs": [
    {
     "data": {
      "text/plain": [
       "50"
      ]
     },
     "execution_count": 25,
     "metadata": {},
     "output_type": "execute_result"
    }
   ],
   "source": [
    "data = response.json()\n",
    "data[\"response\"][\"pageSize\"]"
   ]
  },
  {
   "cell_type": "code",
   "execution_count": 26,
   "id": "981546c4-28d1-46a2-8b25-13f225750f5b",
   "metadata": {},
   "outputs": [
    {
     "data": {
      "text/plain": [
       "981"
      ]
     },
     "execution_count": 26,
     "metadata": {},
     "output_type": "execute_result"
    }
   ],
   "source": [
    "total_pages = data[\"response\"][\"pages\"]\n",
    "total_pages += 1\n",
    "\n",
    "total_pages"
   ]
  },
  {
   "cell_type": "code",
   "execution_count": 29,
   "id": "b08535ef-0eb2-4f51-b8fd-571f45d4c0fa",
   "metadata": {},
   "outputs": [
    {
     "name": "stdout",
     "output_type": "stream",
     "text": [
      "http://content.guardianapis.com/search?q=covid-19 OR coronavirus&page-size=50&page=1\n",
      "http://content.guardianapis.com/search?q=covid-19 OR coronavirus&page-size=50&page=2\n",
      "http://content.guardianapis.com/search?q=covid-19 OR coronavirus&page-size=50&page=3\n",
      "http://content.guardianapis.com/search?q=covid-19 OR coronavirus&page-size=50&page=4\n",
      "http://content.guardianapis.com/search?q=covid-19 OR coronavirus&page-size=50&page=5\n",
      "http://content.guardianapis.com/search?q=covid-19 OR coronavirus&page-size=50&page=6\n",
      "http://content.guardianapis.com/search?q=covid-19 OR coronavirus&page-size=50&page=7\n",
      "http://content.guardianapis.com/search?q=covid-19 OR coronavirus&page-size=50&page=8\n",
      "http://content.guardianapis.com/search?q=covid-19 OR coronavirus&page-size=50&page=9\n",
      "http://content.guardianapis.com/search?q=covid-19 OR coronavirus&page-size=50&page=10\n",
      "http://content.guardianapis.com/search?q=covid-19 OR coronavirus&page-size=50&page=11\n",
      "http://content.guardianapis.com/search?q=covid-19 OR coronavirus&page-size=50&page=12\n",
      "http://content.guardianapis.com/search?q=covid-19 OR coronavirus&page-size=50&page=13\n",
      "http://content.guardianapis.com/search?q=covid-19 OR coronavirus&page-size=50&page=14\n",
      "http://content.guardianapis.com/search?q=covid-19 OR coronavirus&page-size=50&page=15\n",
      "http://content.guardianapis.com/search?q=covid-19 OR coronavirus&page-size=50&page=16\n",
      "http://content.guardianapis.com/search?q=covid-19 OR coronavirus&page-size=50&page=17\n",
      "http://content.guardianapis.com/search?q=covid-19 OR coronavirus&page-size=50&page=18\n",
      "http://content.guardianapis.com/search?q=covid-19 OR coronavirus&page-size=50&page=19\n",
      "http://content.guardianapis.com/search?q=covid-19 OR coronavirus&page-size=50&page=20\n"
     ]
    }
   ],
   "source": [
    "for pagenum in range(1, 21):\n",
    "    webadd = baseurl + \"q=\" + searchterms + \"&page-size=\" + numresults \\\n",
    "             + \"&page=\" + str(pagenum)\n",
    "    print(webadd)\n",
    "    \n",
    "    response = requests.get(webadd, headers=auth)\n",
    "    data = response.json()\n",
    "    \n",
    "    outfile = \"./downloads/guardian-api-covid-19-search-page-\" \\\n",
    "              + str(pagenum) + \"-\" + date + \".json\"\n",
    "    \n",
    "    with open(outfile, \"w\") as f:\n",
    "        json.dump(data, f)"
   ]
  },
  {
   "cell_type": "code",
   "execution_count": 30,
   "id": "598082ad-f3cc-4843-9e06-38e90e58bbee",
   "metadata": {},
   "outputs": [
    {
     "data": {
      "text/plain": [
       "['guardian-api-covid-19-search-page-1-2021-12-18.json',\n",
       " 'guardian-api-covid-19-search-page-10-2021-12-18.json',\n",
       " 'guardian-api-covid-19-search-page-11-2021-12-18.json',\n",
       " 'guardian-api-covid-19-search-page-12-2021-12-18.json',\n",
       " 'guardian-api-covid-19-search-page-13-2021-12-18.json',\n",
       " 'guardian-api-covid-19-search-page-14-2021-12-18.json',\n",
       " 'guardian-api-covid-19-search-page-15-2021-12-18.json',\n",
       " 'guardian-api-covid-19-search-page-16-2021-12-18.json',\n",
       " 'guardian-api-covid-19-search-page-17-2021-12-18.json',\n",
       " 'guardian-api-covid-19-search-page-18-2021-12-18.json',\n",
       " 'guardian-api-covid-19-search-page-19-2021-12-18.json',\n",
       " 'guardian-api-covid-19-search-page-2-2021-12-18.json',\n",
       " 'guardian-api-covid-19-search-page-20-2021-12-18.json',\n",
       " 'guardian-api-covid-19-search-page-3-2021-12-18.json',\n",
       " 'guardian-api-covid-19-search-page-4-2021-12-18.json',\n",
       " 'guardian-api-covid-19-search-page-5-2021-12-18.json',\n",
       " 'guardian-api-covid-19-search-page-6-2021-12-18.json',\n",
       " 'guardian-api-covid-19-search-page-7-2021-12-18.json',\n",
       " 'guardian-api-covid-19-search-page-8-2021-12-18.json',\n",
       " 'guardian-api-covid-19-search-page-9-2021-12-18.json']"
      ]
     },
     "execution_count": 30,
     "metadata": {},
     "output_type": "execute_result"
    }
   ],
   "source": [
    "os.listdir(\"./downloads\")"
   ]
  },
  {
   "cell_type": "code",
   "execution_count": 31,
   "id": "f694459c-b9e5-4303-a7ce-3daecf97fd59",
   "metadata": {},
   "outputs": [
    {
     "data": {
      "text/plain": [
       "{'id': 'politics/2021/jul/07/england-covid-reopening-plan-dangerous-experiment-ministers-told',\n",
       " 'type': 'article',\n",
       " 'sectionId': 'politics',\n",
       " 'sectionName': 'Politics',\n",
       " 'webPublicationDate': '2021-07-07T15:27:35Z',\n",
       " 'webTitle': 'England’s reopening plan is a ‘dangerous experiment’, ministers told',\n",
       " 'webUrl': 'https://www.theguardian.com/politics/2021/jul/07/england-covid-reopening-plan-dangerous-experiment-ministers-told',\n",
       " 'apiUrl': 'https://content.guardianapis.com/politics/2021/jul/07/england-covid-reopening-plan-dangerous-experiment-ministers-told',\n",
       " 'isHosted': False,\n",
       " 'pillarId': 'pillar/news',\n",
       " 'pillarName': 'News'}"
      ]
     },
     "execution_count": 31,
     "metadata": {},
     "output_type": "execute_result"
    }
   ],
   "source": [
    "search_results = data[\"response\"][\"results\"]\n",
    "article = search_results[0]\n",
    "\n",
    "article"
   ]
  },
  {
   "cell_type": "code",
   "execution_count": 32,
   "id": "aaa1b3e0-5e48-4e54-9812-767aa3c2e7ee",
   "metadata": {},
   "outputs": [
    {
     "data": {
      "text/plain": [
       "200"
      ]
     },
     "execution_count": 32,
     "metadata": {},
     "output_type": "execute_result"
    }
   ],
   "source": [
    "baseurl = article[\"apiUrl\"]\n",
    "auth = {\"api-key\":api_key}\n",
    "field = \"body\"\n",
    "\n",
    "webadd = baseurl + \"?show-fields=\" + field\n",
    "\n",
    "response = requests.get(webadd, headers=auth)\n",
    "response.status_code"
   ]
  },
  {
   "cell_type": "code",
   "execution_count": 33,
   "id": "b1e1b5b6-3933-41d5-a965-5564b1438b03",
   "metadata": {},
   "outputs": [
    {
     "data": {
      "text/plain": [
       "{'response': {'status': 'ok',\n",
       "  'userTier': 'developer',\n",
       "  'total': 1,\n",
       "  'content': {'id': 'politics/2021/jul/07/england-covid-reopening-plan-dangerous-experiment-ministers-told',\n",
       "   'type': 'article',\n",
       "   'sectionId': 'politics',\n",
       "   'sectionName': 'Politics',\n",
       "   'webPublicationDate': '2021-07-07T15:27:35Z',\n",
       "   'webTitle': 'England’s reopening plan is a ‘dangerous experiment’, ministers told',\n",
       "   'webUrl': 'https://www.theguardian.com/politics/2021/jul/07/england-covid-reopening-plan-dangerous-experiment-ministers-told',\n",
       "   'apiUrl': 'https://content.guardianapis.com/politics/2021/jul/07/england-covid-reopening-plan-dangerous-experiment-ministers-told',\n",
       "   'fields': {'body': '<p>Boris Johnson’s decision <a href=\"https://www.theguardian.com/politics/2021/jul/04/pm-confirm-19-july-end-covid-restrictions-scientists-warnings-england\">to lift a vast swath of Covid restrictions</a> on 19 July is “a very dangerous experiment” that will disproportionately affect a host of people already susceptible to coronavirus, according to experts involved in an independent inquiry into the government’s pandemic response.</p> \\n<p>The damning report states that disabled people, those from black, Asian and minority ethnic backgrounds or those on low incomes are now at greater risk after rules on mask-wearing and self-isolation, as well as the requirement to work from home when possible, are set to be axed.</p> \\n<p>Dr Tolullah Oni, an epidemiologist at the University of Cambridge, warned that lifting restrictions would affect communities unequally. “We’re further widening the health inequalities we’ve seen play out in the last year,” she said.</p> \\n<p>The warnings from healthcare experts involved in the People’s Covid Inquiry are the latest in a chorus of criticism since the government’s announcement on Monday unveiling plans to lift all restrictions on 19 July, including social distancing and the wearing of masks.</p> \\n<p>Dr Jacky Davis, an NHS consultant radiologist, said: “In going for what looks like hybrid herd immunity, which was what this government went for in first place and then was slapped down, they are conducting a very dangerous experiment.</p> \\n<p>“We’re concerned about the future of young people and their education as it may be that it will have serious repercussions on their health going forward. It seems very dangerous when it could be stopped by something as minimal as wearing a mask and a degree of social distancing. The government has put all its eggs in the vaccine basket.”</p> \\n<figure class=\"element element-atom\"> \\n <gu-atom data-atom-id=\"interactives/2020/08/uk-coronavirus-dashboard-v2/column-chart-cases\" data-atom-type=\"interactive\"> \\n  <div>\\n   default\\n  </div>\\n </gu-atom> \\n</figure> \\n<p>Davis’s comments coincided with the publication of damning interim findings from the People’s Covid Inquiry, which was launched by campaigners Keep Our NHS Public in November 2020 to hold the government to account for the UK’s high Covid death toll.</p> \\n<p>The panel, which consists of health and legal experts who have spoken to 39 witnesses over nine hearings, urged the government not to ignore the World Health Organization’s public health measures, including effective test-and-trace services with economic support for isolation and quarantine, social distancing, mask-wearing and strict border controls.</p> \\n<figure class=\"element element-atom\"> \\n <gu-atom data-atom-id=\"61bc1857-8fcd-40bd-89b6-8c716082d7a0\" data-atom-type=\"media\"> \\n  <div>\\n   <iframe frameborder=\"0\" allowfullscreen=\"true\" src=\"https://www.youtube-nocookie.com/embed/wsEiiHhlJaI?showinfo=0&amp;rel=0\"></iframe>\\n  </div>\\n </gu-atom> \\n</figure> \\n<p>Neena Modi, a professor of neonatal medicine at Imperial College London, said the government strategy to rely on personal decision-making rather than public health measures was an abdication of responsibility. “Many segments of society are unable to make these choices for themselves. Leadership should provide clear advice,” she said. </p> \\n<p>Oni also urged the government to consider how to make Covid prevention measures a permanent feature of society, for instance by prioritising ventilation in schools and other buildings. This would mirror earlier successes in adapting infrastructure to accommodate health needs, for instance when cholera outbreaks in the 1800s resulted in long-term sanitation improvements, she said.</p> \\n<p>Calls for increased public investment to reverse the damage caused by a decade of austerity were a central feature of the People’s Covid Inquiry interim report, which blamed the UK’s high death toll on NHS underfunding and widening social inequalities.</p> \\n<p>The report stated: “Underlying poor health and pre-existing inequalities left the UK vulnerable, with England having the highest excess all-cause mortality rate among 23 European countries in the first five months of 2020. [This] also resulted in increased mortality and hospitalisations, with these conditions being more common in deprived populations.”</p> \\n<p>The report argued that the NHS “needn’t have been so weakened” by austerity, and said this resulted in a paradoxical situation during the pandemic in which the public were asked to “protect the NHS” rather than being protected by their health service.</p> \\n<p>Modi said this was exemplified by the case of<strong> </strong>Lobby Akinola, whose healthy father died at home from Covid without ever speaking to a doctor because the family had followed government advice to call NHS 111, even though this is “a triage system, not a healthcare professional”.</p> \\n<p>“If he had been seen by a doctor and admitted to hospital, he would likely still have been alive today,” Modi said.</p> \\n<p>The report further criticised the fact that instead of investing in the NHS and its staff, the pandemic has been used to underwrite the private healthcare sector with public funds.</p> \\n<figure class=\"element element-atom\"> \\n <gu-atom data-atom-id=\"interactives/2020/03/covid-19-uk/default\" data-atom-type=\"interactive\"> \\n  <div>\\n   default\\n  </div>\\n </gu-atom> \\n</figure> \\n<p>The inquiry also criticised the government’s over-reliance on private contracts, exemplified by the failure of the privately run £37bn test-and-trace programme, which could have been better executed by GPs who knew their local areas.</p> \\n<p>The culture of cronyism that resulted from ministers awarding contracts to their personal contacts without a competitive tender process had combined with the government’s perceived mishandling of the pandemic to drastically undermine public trust, the authors added.</p> \\n<p>The panel chair, Michael Mansfield QC, said the findings reinforced the need for an independent judicial inquiry into the government’s pandemic response to be held as quickly as possible. The delay was further evidence that the government had “no respect for the rule of law” and that there were “ministers responsible for handling the pandemic who are unfit for purpose”, he said.</p> \\n<p>“We as taxpayers are owed an explanation as to what’s going on.”</p>'},\n",
       "   'isHosted': False,\n",
       "   'pillarId': 'pillar/news',\n",
       "   'pillarName': 'News'}}}"
      ]
     },
     "execution_count": 33,
     "metadata": {},
     "output_type": "execute_result"
    }
   ],
   "source": [
    "data = response.json()\n",
    "\n",
    "data"
   ]
  },
  {
   "cell_type": "code",
   "execution_count": 34,
   "id": "2425dbcb-bbed-49dc-8a1a-5fa93a461fb1",
   "metadata": {},
   "outputs": [
    {
     "data": {
      "text/plain": [
       "dict_keys(['body'])"
      ]
     },
     "execution_count": 34,
     "metadata": {},
     "output_type": "execute_result"
    }
   ],
   "source": [
    "data[\"response\"][\"content\"][\"fields\"].keys()"
   ]
  },
  {
   "cell_type": "code",
   "execution_count": 35,
   "id": "3917802e-bccb-4c30-95cb-e81c61ac8c62",
   "metadata": {},
   "outputs": [
    {
     "data": {
      "text/plain": [
       "'<p>Boris Johnson’s decision <a href=\"https://www.theguardian.com/politics/2021/jul/04/pm-confirm-19-july-end-covid-restrictions-scientists-warnings-england\">to lift a vast swath of Covid restrictions</a> on 19 July is “a very dangerous experiment” that will disproportionately affect a host of people already susceptible to coronavirus, according to experts involved in an independent inquiry into the government’s pandemic response.</p> \\n<p>The damning report states that disabled people, those from black, Asian and minority ethnic backgrounds or those on low incomes are now at greater risk after rules on mask-wearing and self-isolation, as well as the requirement to work from home when possible, are set to be axed.</p> \\n<p>Dr Tolullah Oni, an epidemiologist at the University of Cambridge, warned that lifting restrictions would affect communities unequally. “We’re further widening the health inequalities we’ve seen play out in the last year,” she said.</p> \\n<p>The warnings from healthcare experts involved in the People’s Covid Inquiry are the latest in a chorus of criticism since the government’s announcement on Monday unveiling plans to lift all restrictions on 19 July, including social distancing and the wearing of masks.</p> \\n<p>Dr Jacky Davis, an NHS consultant radiologist, said: “In going for what looks like hybrid herd immunity, which was what this government went for in first place and then was slapped down, they are conducting a very dangerous experiment.</p> \\n<p>“We’re concerned about the future of young people and their education as it may be that it will have serious repercussions on their health going forward. It seems very dangerous when it could be stopped by something as minimal as wearing a mask and a degree of social distancing. The government has put all its eggs in the vaccine basket.”</p> \\n<figure class=\"element element-atom\"> \\n <gu-atom data-atom-id=\"interactives/2020/08/uk-coronavirus-dashboard-v2/column-chart-cases\" data-atom-type=\"interactive\"> \\n  <div>\\n   default\\n  </div>\\n </gu-atom> \\n</figure> \\n<p>Davis’s comments coincided with the publication of damning interim findings from the People’s Covid Inquiry, which was launched by campaigners Keep Our NHS Public in November 2020 to hold the government to account for the UK’s high Covid death toll.</p> \\n<p>The panel, which consists of health and legal experts who have spoken to 39 witnesses over nine hearings, urged the government not to ignore the World Health Organization’s public health measures, including effective test-and-trace services with economic support for isolation and quarantine, social distancing, mask-wearing and strict border controls.</p> \\n<figure class=\"element element-atom\"> \\n <gu-atom data-atom-id=\"61bc1857-8fcd-40bd-89b6-8c716082d7a0\" data-atom-type=\"media\"> \\n  <div>\\n   <iframe frameborder=\"0\" allowfullscreen=\"true\" src=\"https://www.youtube-nocookie.com/embed/wsEiiHhlJaI?showinfo=0&amp;rel=0\"></iframe>\\n  </div>\\n </gu-atom> \\n</figure> \\n<p>Neena Modi, a professor of neonatal medicine at Imperial College London, said the government strategy to rely on personal decision-making rather than public health measures was an abdication of responsibility. “Many segments of society are unable to make these choices for themselves. Leadership should provide clear advice,” she said. </p> \\n<p>Oni also urged the government to consider how to make Covid prevention measures a permanent feature of society, for instance by prioritising ventilation in schools and other buildings. This would mirror earlier successes in adapting infrastructure to accommodate health needs, for instance when cholera outbreaks in the 1800s resulted in long-term sanitation improvements, she said.</p> \\n<p>Calls for increased public investment to reverse the damage caused by a decade of austerity were a central feature of the People’s Covid Inquiry interim report, which blamed the UK’s high death toll on NHS underfunding and widening social inequalities.</p> \\n<p>The report stated: “Underlying poor health and pre-existing inequalities left the UK vulnerable, with England having the highest excess all-cause mortality rate among 23 European countries in the first five months of 2020. [This] also resulted in increased mortality and hospitalisations, with these conditions being more common in deprived populations.”</p> \\n<p>The report argued that the NHS “needn’t have been so weakened” by austerity, and said this resulted in a paradoxical situation during the pandemic in which the public were asked to “protect the NHS” rather than being protected by their health service.</p> \\n<p>Modi said this was exemplified by the case of<strong> </strong>Lobby Akinola, whose healthy father died at home from Covid without ever speaking to a doctor because the family had followed government advice to call NHS 111, even though this is “a triage system, not a healthcare professional”.</p> \\n<p>“If he had been seen by a doctor and admitted to hospital, he would likely still have been alive today,” Modi said.</p> \\n<p>The report further criticised the fact that instead of investing in the NHS and its staff, the pandemic has been used to underwrite the private healthcare sector with public funds.</p> \\n<figure class=\"element element-atom\"> \\n <gu-atom data-atom-id=\"interactives/2020/03/covid-19-uk/default\" data-atom-type=\"interactive\"> \\n  <div>\\n   default\\n  </div>\\n </gu-atom> \\n</figure> \\n<p>The inquiry also criticised the government’s over-reliance on private contracts, exemplified by the failure of the privately run £37bn test-and-trace programme, which could have been better executed by GPs who knew their local areas.</p> \\n<p>The culture of cronyism that resulted from ministers awarding contracts to their personal contacts without a competitive tender process had combined with the government’s perceived mishandling of the pandemic to drastically undermine public trust, the authors added.</p> \\n<p>The panel chair, Michael Mansfield QC, said the findings reinforced the need for an independent judicial inquiry into the government’s pandemic response to be held as quickly as possible. The delay was further evidence that the government had “no respect for the rule of law” and that there were “ministers responsible for handling the pandemic who are unfit for purpose”, he said.</p> \\n<p>“We as taxpayers are owed an explanation as to what’s going on.”</p>'"
      ]
     },
     "execution_count": 35,
     "metadata": {},
     "output_type": "execute_result"
    }
   ],
   "source": [
    "text = data[\"response\"][\"content\"][\"fields\"][\"body\"]\n",
    "text"
   ]
  },
  {
   "cell_type": "code",
   "execution_count": 36,
   "id": "20c12c08-26c8-4ede-93db-11a46c683a8a",
   "metadata": {},
   "outputs": [
    {
     "data": {
      "text/plain": [
       "bs4.BeautifulSoup"
      ]
     },
     "execution_count": 36,
     "metadata": {},
     "output_type": "execute_result"
    }
   ],
   "source": [
    "from bs4 import BeautifulSoup as soup\n",
    "\n",
    "\n",
    "soup_text = soup(text, \"html.parser\")\n",
    "type(soup_text)"
   ]
  },
  {
   "cell_type": "code",
   "execution_count": 37,
   "id": "1f1615a2-47ba-4d84-a75b-dff65d169578",
   "metadata": {},
   "outputs": [
    {
     "data": {
      "text/plain": [
       "[<a href=\"https://www.theguardian.com/politics/2021/jul/04/pm-confirm-19-july-end-covid-restrictions-scientists-warnings-england\">to lift a vast swath of Covid restrictions</a>]"
      ]
     },
     "execution_count": 37,
     "metadata": {},
     "output_type": "execute_result"
    }
   ],
   "source": [
    "links = soup_text.find_all(\"a\")\n",
    "\n",
    "links"
   ]
  },
  {
   "cell_type": "code",
   "execution_count": 38,
   "id": "30631996-a2d4-4b4c-8113-37ce77e7f852",
   "metadata": {},
   "outputs": [
    {
     "data": {
      "text/plain": [
       "1"
      ]
     },
     "execution_count": 38,
     "metadata": {},
     "output_type": "execute_result"
    }
   ],
   "source": [
    "len(links)"
   ]
  },
  {
   "cell_type": "code",
   "execution_count": 39,
   "id": "ef1e7a6e-8e21-4c16-9064-a33260e6d179",
   "metadata": {},
   "outputs": [
    {
     "name": "stdout",
     "output_type": "stream",
     "text": [
      "--------\n",
      "https://www.theguardian.com/politics/2021/jul/04/pm-confirm-19-july-end-covid-restrictions-scientists-warnings-england\n",
      "--------\n",
      "\n"
     ]
    }
   ],
   "source": [
    "for link in links:\n",
    "    print(\"--------\")\n",
    "    print(link.get(\"href\"))\n",
    "    print(\"--------\")\n",
    "    print(\"\\r\")"
   ]
  },
  {
   "cell_type": "code",
   "execution_count": 40,
   "id": "db2c0b2c-002b-4cb8-9778-46b00df6c3f7",
   "metadata": {},
   "outputs": [
    {
     "data": {
      "text/plain": [
       "'./downloads/politics-2021-jul-07-england-covid-reopening-plan-dangerous-experiment-ministers-told.json'"
      ]
     },
     "execution_count": 40,
     "metadata": {},
     "output_type": "execute_result"
    }
   ],
   "source": [
    "article_id = data[\"response\"][\"content\"][\"id\"].replace(\"/\", \"-\")\n",
    "\n",
    "outfile = \"./downloads/\" + article_id + \".json\"\n",
    "\n",
    "with open(outfile, \"w\") as f:\n",
    "    json.dump(data, f)\n",
    "    \n",
    "outfile"
   ]
  },
  {
   "cell_type": "code",
   "execution_count": null,
   "id": "24e5da41-fbd0-44f4-8091-ff5aa1b06e4c",
   "metadata": {},
   "outputs": [],
   "source": []
  }
 ],
 "metadata": {
  "kernelspec": {
   "display_name": "Python 3.9 (Web Scraping env)",
   "language": "python",
   "name": "webscraping"
  },
  "language_info": {
   "codemirror_mode": {
    "name": "ipython",
    "version": 3
   },
   "file_extension": ".py",
   "mimetype": "text/x-python",
   "name": "python",
   "nbconvert_exporter": "python",
   "pygments_lexer": "ipython3",
   "version": "3.9.7"
  }
 },
 "nbformat": 4,
 "nbformat_minor": 5
}
